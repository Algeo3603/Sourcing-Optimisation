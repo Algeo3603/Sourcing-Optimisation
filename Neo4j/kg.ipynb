{
 "cells": [
  {
   "cell_type": "code",
   "execution_count": 1,
   "metadata": {},
   "outputs": [],
   "source": [
    "from dotenv import load_dotenv\n",
    "import os\n",
    "from langchain_community.graphs import Neo4jGraph\n",
    "import pandas as pd\n",
    "import json\n",
    "from tqdm import tqdm"
   ]
  },
  {
   "cell_type": "code",
   "execution_count": 2,
   "metadata": {},
   "outputs": [],
   "source": [
    "NEO4J_URI = os.getenv('NEO4J_URI')\n",
    "NEO4J_USERNAME = os.getenv('NEO4J_USERNAME')\n",
    "NEO4J_PASSWORD = os.getenv('NEO4J_PASSWORD')\n",
    "NEO4J_DATABASE = os.getenv('AURA_INSTANCENAME') # don't need this I guess"
   ]
  },
  {
   "cell_type": "code",
   "execution_count": 3,
   "metadata": {},
   "outputs": [],
   "source": [
    "kg = Neo4jGraph(\n",
    "    url=NEO4J_URI, username=NEO4J_USERNAME, password=NEO4J_PASSWORD\n",
    ")"
   ]
  },
  {
   "cell_type": "code",
   "execution_count": 4,
   "metadata": {},
   "outputs": [
    {
     "data": {
      "text/plain": [
       "[{'count(n)': 0}]"
      ]
     },
     "execution_count": 4,
     "metadata": {},
     "output_type": "execute_result"
    }
   ],
   "source": [
    "cypher = \"\"\"\n",
    "    MATCH (n)\n",
    "    RETURN count(n)\n",
    "\"\"\"\n",
    "kg.query(cypher)"
   ]
  },
  {
   "cell_type": "code",
   "execution_count": 16,
   "metadata": {},
   "outputs": [],
   "source": [
    "def delete_graph():\n",
    "    cypher = \"\"\"\n",
    "        MATCH (n)\n",
    "        DETACH DELETE n\n",
    "    \"\"\"\n",
    "    kg.query(cypher)\n",
    "delete_graph()"
   ]
  },
  {
   "cell_type": "code",
   "execution_count": 5,
   "metadata": {},
   "outputs": [],
   "source": [
    "def addCompany(company_name):\n",
    "    cypher = \"\"\"\n",
    "        MATCH (c:Company {name: $company_name})\n",
    "        RETURN count(c)\n",
    "    \"\"\"\n",
    "    result = kg.query(cypher, {'company_name':company_name})\n",
    "    if result[0]['count(c)'] != 0:\n",
    "        return\n",
    "\n",
    "    cypher = \"\"\"\n",
    "        CREATE (c:Company {name: $company_name})\n",
    "        RETURN c\n",
    "    \"\"\"\n",
    "    kg.query(cypher, {'company_name':company_name})"
   ]
  },
  {
   "cell_type": "code",
   "execution_count": 18,
   "metadata": {},
   "outputs": [],
   "source": [
    "# # demo cell\n",
    "# path = '../TempJSONs/Suppliers/Ningbo Tuopu Group Co., Ltd.(Formerly Ningbo Tuopu Brake System Co., Ltd.).json'\n",
    "# with open(path, 'r') as f:\n",
    "#     data = json.load(f)\n",
    "# # print(data)\n",
    "# supplier_dict = {'name':'Ningbo Tuopu Group Co., Ltd.(Formerly Ningbo Tuopu Brake System Co., Ltd.)'}\n",
    "# metadata_fields = ['top500', 'Year Established', 'Number of Employees', 'Sales Turnover', 'Representative', 'URL', 'Address', 'Country']\n",
    "# for key in data:\n",
    "#     if key in metadata_fields:\n",
    "#         supplier_dict[key.replace(' ', '_')] = data[key]\n",
    "# print(supplier_dict)\n",
    "\n",
    "# cypher = \"\"\"CREATE (c:Company {\"\"\"\n",
    "# for key in supplier_dict:\n",
    "#     cypher += key + \": $\" + key + \", \"\n",
    "# cypher = cypher[:-2]\n",
    "# cypher += \"}) RETURN c\"\n",
    "\n",
    "# print(cypher)\n",
    "# # kg.query(cypher, supplier_dict)"
   ]
  },
  {
   "cell_type": "code",
   "execution_count": 12,
   "metadata": {},
   "outputs": [],
   "source": [
    "def addSupplierCompany(supplier_file):\n",
    "    metadata_fields = ['top500', 'Year Established', 'Number of Employees', 'Sales Turnover', 'Representative', 'URL', 'Address', 'Country']\n",
    "\n",
    "    name = supplier_file[:-5]\n",
    "    # create dictiory for executing cyper query\n",
    "    supplier_dict = {'name':name}\n",
    "\n",
    "    # read supplier file\n",
    "    with open(f'../TempJSONs/Suppliers/{supplier_file}', 'r') as f:\n",
    "        data = json.load(f)\n",
    "\n",
    "    # add required fields in dictionary\n",
    "    for key in data:\n",
    "        if key in metadata_fields:\n",
    "            supplier_dict[key.replace(' ', '_')] = data[key]\n",
    "\n",
    "    # construct cypher query\n",
    "    cypher = \"\"\"MERGE (c:Company {\"\"\"\n",
    "    for key in supplier_dict:\n",
    "        cypher += key + \": $\" + key + \", \"\n",
    "    cypher = cypher[:-2]\n",
    "    cypher += \"}) RETURN c\"\n",
    "\n",
    "    # execute cypher query\n",
    "    kg.query(cypher, supplier_dict)"
   ]
  },
  {
   "cell_type": "code",
   "execution_count": 13,
   "metadata": {},
   "outputs": [],
   "source": [
    "def addSupplierCountry(supplier_file):\n",
    "    # read supplier file\n",
    "    with open(f'../TempJSONs/Suppliers/{supplier_file}', 'r') as f:\n",
    "        data = json.load(f)\n",
    "    if 'Country' not in data:\n",
    "        return\n",
    "    country_name = data['Country']\n",
    "    \n",
    "    cypher = \"\"\"\n",
    "        MERGE (c:Country {name: $country_name})\n",
    "        RETURN c\n",
    "    \"\"\"\n",
    "    kg.query(cypher, {'country_name':country_name})\n",
    "    "
   ]
  },
  {
   "cell_type": "code",
   "execution_count": 14,
   "metadata": {},
   "outputs": [],
   "source": [
    "def addSupplierCountryRelation(supplier_file):\n",
    "    # read supplier file\n",
    "    with open(f'../TempJSONs/Suppliers/{supplier_file}', 'r') as f:\n",
    "        data = json.load(f)\n",
    "    if 'Country' not in data:\n",
    "        return\n",
    "    country_name = data['Country']\n",
    "    supplier_name = supplier_file[:-5]\n",
    "\n",
    "    cypher = \"\"\"\n",
    "        MERGE (s:Company {name:$supplier_name})\n",
    "        MERGE (c:Country {name:$country_name})\n",
    "        MERGE (s)-[r:LOCATED_IN]->(c)\n",
    "    \"\"\"\n",
    "    kg.query(cypher, {'supplier_name':supplier_name, 'country_name':country_name})"
   ]
  },
  {
   "cell_type": "code",
   "execution_count": 17,
   "metadata": {},
   "outputs": [
    {
     "name": "stderr",
     "output_type": "stream",
     "text": [
      "100%|██████████| 5/5 [00:02<00:00,  2.47it/s]\n"
     ]
    }
   ],
   "source": [
    "# create nodes Supplier(Company), Country\n",
    "# create relationships LOCATED_IN(Company, Country)\n",
    "\n",
    "supplier_jsons_list = os.listdir('../TempJSONs/Suppliers')\n",
    "metadata_fields = ['top500', 'Year Established', 'Number of Employees', 'Sales Turnover', 'Representative', 'URL', 'Address', 'Country']\n",
    "for i in tqdm(range(len(supplier_jsons_list[:5]))):\n",
    "    supplier_file = supplier_jsons_list[i]\n",
    "    addSupplierCompany(supplier_file)\n",
    "    addSupplierCountry(supplier_file)\n",
    "    addSupplierCountryRelation(supplier_file)"
   ]
  },
  {
   "cell_type": "code",
   "execution_count": 11,
   "metadata": {},
   "outputs": [
    {
     "data": {
      "text/plain": [
       "[{'count(n)': 1}]"
      ]
     },
     "execution_count": 11,
     "metadata": {},
     "output_type": "execute_result"
    }
   ],
   "source": [
    "cypher = \"\"\"\n",
    "    MATCH (n:Company {name: \"Ningbo Tuopu Group Co., Ltd.(Formerly Ningbo Tuopu Brake System Co., Ltd.)\"})\n",
    "    RETURN count(n)\n",
    "\"\"\"\n",
    "kg.query(cypher)\n",
    "# Ningbo Tuopu Group Co., Ltd.(Formerly Ningbo Tuopu Brake System Co., Ltd.)"
   ]
  },
  {
   "cell_type": "code",
   "execution_count": null,
   "metadata": {},
   "outputs": [],
   "source": []
  }
 ],
 "metadata": {
  "kernelspec": {
   "display_name": "venv",
   "language": "python",
   "name": "python3"
  },
  "language_info": {
   "codemirror_mode": {
    "name": "ipython",
    "version": 3
   },
   "file_extension": ".py",
   "mimetype": "text/x-python",
   "name": "python",
   "nbconvert_exporter": "python",
   "pygments_lexer": "ipython3",
   "version": "3.12.4"
  }
 },
 "nbformat": 4,
 "nbformat_minor": 2
}
