{
 "cells": [
  {
   "cell_type": "code",
   "execution_count": 1,
   "metadata": {},
   "outputs": [],
   "source": [
    "from dotenv import load_dotenv\n",
    "import os\n",
    "from langchain_community.graphs import Neo4jGraph\n",
    "import pandas as pd\n",
    "import json\n",
    "from tqdm import tqdm"
   ]
  },
  {
   "cell_type": "code",
   "execution_count": 2,
   "metadata": {},
   "outputs": [],
   "source": [
    "NEO4J_URI = os.getenv('NEO4J_URI')\n",
    "NEO4J_USERNAME = os.getenv('NEO4J_USERNAME')\n",
    "NEO4J_PASSWORD = os.getenv('NEO4J_PASSWORD')\n",
    "NEO4J_DATABASE = os.getenv('AURA_INSTANCENAME') # don't need this I guess"
   ]
  },
  {
   "cell_type": "code",
   "execution_count": 6,
   "metadata": {},
   "outputs": [],
   "source": [
    "kg = Neo4jGraph(\n",
    "    url=NEO4J_URI, username=NEO4J_USERNAME, password=NEO4J_PASSWORD\n",
    ")"
   ]
  },
  {
   "cell_type": "code",
   "execution_count": 8,
   "metadata": {},
   "outputs": [
    {
     "data": {
      "text/plain": [
       "[{'count(n)': 0}]"
      ]
     },
     "execution_count": 8,
     "metadata": {},
     "output_type": "execute_result"
    }
   ],
   "source": [
    "cypher = \"\"\"\n",
    "    MATCH (n)\n",
    "    RETURN count(n)\n",
    "\"\"\"\n",
    "kg.query(cypher)"
   ]
  },
  {
   "cell_type": "code",
   "execution_count": 7,
   "metadata": {},
   "outputs": [],
   "source": [
    "def delete_graph():\n",
    "    cypher = \"\"\"\n",
    "        MATCH (n)\n",
    "        DETACH DELETE n\n",
    "    \"\"\"\n",
    "    kg.query(cypher)\n",
    "delete_graph()"
   ]
  },
  {
   "cell_type": "code",
   "execution_count": null,
   "metadata": {},
   "outputs": [],
   "source": [
    "def addCompany(company_name):\n",
    "    cypher = \"\"\"\n",
    "        MATCH (c:Company {name: $company_name})\n",
    "        RETURN count(c)\n",
    "    \"\"\"\n",
    "    result = kg.query(cypher, {'company_name':company_name})\n",
    "    if result[0]['count(c)'] != 0:\n",
    "        return\n",
    "\n",
    "    cypher = \"\"\"\n",
    "        CREATE (c:Company {name: $company_name})\n",
    "        RETURN c\n",
    "    \"\"\"\n",
    "    kg.query(cypher, {'company_name':company_name})"
   ]
  },
  {
   "cell_type": "code",
   "execution_count": 10,
   "metadata": {},
   "outputs": [
    {
     "name": "stdout",
     "output_type": "stream",
     "text": [
      "{'name': 'Ningbo Tuopu Group Co., Ltd.(Formerly Ningbo Tuopu Brake System Co., Ltd.)', 'top500': True, 'Year_Established': 'Apr. 2004', 'Number_of_Employees': '7,612 employees (as of Dec. 31, 2022)', 'Sales_Turnover': 'CNY 159,92.82 million (FY ended Dec. 31, 2022)', 'Representative': 'Chairman: Jianshu WU', 'URL': 'http://www.tuopu.com', 'Address': 'No.268, Yuwangshan Road, Beilun District, Ningbo City, Zhejiang Province, China', 'Country': 'China'}\n",
      "CREATE (c:Company {name: $name, top500: $top500, Year_Established: $Year_Established, Number_of_Employees: $Number_of_Employees, Sales_Turnover: $Sales_Turnover, Representative: $Representative, URL: $URL, Address: $Address, Country: $Country}) RETURN c\n"
     ]
    }
   ],
   "source": [
    "# demo cell\n",
    "path = '../TempJSONs/Suppliers/Ningbo Tuopu Group Co., Ltd.(Formerly Ningbo Tuopu Brake System Co., Ltd.).json'\n",
    "with open(path, 'r') as f:\n",
    "    data = json.load(f)\n",
    "# print(data)\n",
    "supplier_dict = {'name':'Ningbo Tuopu Group Co., Ltd.(Formerly Ningbo Tuopu Brake System Co., Ltd.)'}\n",
    "metadata_fields = ['top500', 'Year Established', 'Number of Employees', 'Sales Turnover', 'Representative', 'URL', 'Address', 'Country']\n",
    "for key in data:\n",
    "    if key in metadata_fields:\n",
    "        supplier_dict[key.replace(' ', '_')] = data[key]\n",
    "print(supplier_dict)\n",
    "\n",
    "cypher = \"\"\"CREATE (c:Company {\"\"\"\n",
    "for key in supplier_dict:\n",
    "    cypher += key + \": $\" + key + \", \"\n",
    "cypher = cypher[:-2]\n",
    "cypher += \"}) RETURN c\"\n",
    "\n",
    "print(cypher)\n",
    "# kg.query(cypher, supplier_dict)"
   ]
  },
  {
   "cell_type": "code",
   "execution_count": 9,
   "metadata": {},
   "outputs": [
    {
     "name": "stderr",
     "output_type": "stream",
     "text": [
      "  0%|          | 0/5 [00:00<?, ?it/s]"
     ]
    },
    {
     "name": "stderr",
     "output_type": "stream",
     "text": [
      "100%|██████████| 5/5 [00:00<00:00,  5.08it/s]\n"
     ]
    }
   ],
   "source": [
    "supplier_jsons_list = os.listdir('../TempJSONs/Suppliers')\n",
    "metadata_fields = ['top500', 'Year Established', 'Number of Employees', 'Sales Turnover', 'Representative', 'URL', 'Address', 'Country']\n",
    "for i in tqdm(range(len(supplier_jsons_list[:5]))):\n",
    "    supplier = supplier_jsons_list[i]\n",
    "    # create dictiory for executing cyper query\n",
    "    supplier_dict = {'name':supplier[:-5]}\n",
    "    \n",
    "    # read supplier file\n",
    "    with open(f'../TempJSONs/Suppliers/{supplier}', 'r') as f:\n",
    "        data = json.load(f)\n",
    "\n",
    "    # add required fields in dictionary\n",
    "    for key in data:\n",
    "        if key in metadata_fields:\n",
    "            supplier_dict[key.replace(' ', '_')] = data[key]\n",
    "    \n",
    "    # construct cypher query\n",
    "    cypher = \"\"\"CREATE (c:Company {\"\"\"\n",
    "    for key in supplier_dict:\n",
    "        cypher += key + \": $\" + key + \", \"\n",
    "    cypher = cypher[:-2]\n",
    "    cypher += \"}) RETURN c\"\n",
    "\n",
    "    # execute cypher query\n",
    "    kg.query(cypher, supplier_dict)"
   ]
  },
  {
   "cell_type": "code",
   "execution_count": null,
   "metadata": {},
   "outputs": [],
   "source": []
  },
  {
   "cell_type": "code",
   "execution_count": null,
   "metadata": {},
   "outputs": [],
   "source": []
  }
 ],
 "metadata": {
  "kernelspec": {
   "display_name": "venv",
   "language": "python",
   "name": "python3"
  },
  "language_info": {
   "codemirror_mode": {
    "name": "ipython",
    "version": 3
   },
   "file_extension": ".py",
   "mimetype": "text/x-python",
   "name": "python",
   "nbconvert_exporter": "python",
   "pygments_lexer": "ipython3",
   "version": "3.12.4"
  }
 },
 "nbformat": 4,
 "nbformat_minor": 2
}
