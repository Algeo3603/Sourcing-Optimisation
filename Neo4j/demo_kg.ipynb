{
 "cells": [
  {
   "cell_type": "code",
   "execution_count": 1,
   "metadata": {},
   "outputs": [],
   "source": [
    "from dotenv import load_dotenv\n",
    "import os\n",
    "from langchain_community.graphs import Neo4jGraph\n",
    "import pandas as pd\n",
    "import json\n",
    "from tqdm import tqdm"
   ]
  },
  {
   "cell_type": "code",
   "execution_count": 2,
   "metadata": {},
   "outputs": [],
   "source": [
    "NEO4J_URI = os.getenv('NEO4J_URI')\n",
    "NEO4J_USERNAME = os.getenv('NEO4J_USERNAME')\n",
    "NEO4J_PASSWORD = os.getenv('NEO4J_PASSWORD')\n",
    "NEO4J_DATABASE = os.getenv('AURA_INSTANCENAME') # don't need this I guess"
   ]
  },
  {
   "cell_type": "code",
   "execution_count": 3,
   "metadata": {},
   "outputs": [],
   "source": [
    "kg = Neo4jGraph(\n",
    "    url=NEO4J_URI, username=NEO4J_USERNAME, password=NEO4J_PASSWORD\n",
    ")"
   ]
  },
  {
   "cell_type": "code",
   "execution_count": 4,
   "metadata": {},
   "outputs": [
    {
     "data": {
      "text/plain": [
       "[{'count(n)': 0}]"
      ]
     },
     "execution_count": 4,
     "metadata": {},
     "output_type": "execute_result"
    }
   ],
   "source": [
    "cypher = \"\"\"\n",
    "    MATCH (n)\n",
    "    RETURN count(n)\n",
    "\"\"\"\n",
    "kg.query(cypher)"
   ]
  },
  {
   "cell_type": "code",
   "execution_count": 5,
   "metadata": {},
   "outputs": [],
   "source": [
    "def delete_graph():\n",
    "    cypher = \"\"\"\n",
    "        MATCH (n)\n",
    "        DETACH DELETE n\n",
    "    \"\"\"\n",
    "    kg.query(cypher)\n",
    "delete_graph()"
   ]
  },
  {
   "cell_type": "code",
   "execution_count": 38,
   "metadata": {},
   "outputs": [],
   "source": [
    "def addCompany(company_name):\n",
    "    cypher = \"\"\"\n",
    "        MATCH (c:Company {name: $company_name})\n",
    "        RETURN count(c)\n",
    "    \"\"\"\n",
    "    result = kg.query(cypher, {'company_name':company_name})\n",
    "    if result[0]['count(c)'] != 0:\n",
    "        return\n",
    "\n",
    "    cypher = \"\"\"\n",
    "        CREATE (c:Company {name: $company_name})\n",
    "        RETURN c\n",
    "    \"\"\"\n",
    "    kg.query(cypher, {'company_name':company_name})"
   ]
  },
  {
   "cell_type": "code",
   "execution_count": 39,
   "metadata": {},
   "outputs": [],
   "source": [
    "# # demo cell\n",
    "# path = '../TempJSONs/Suppliers/Ningbo Tuopu Group Co., Ltd.(Formerly Ningbo Tuopu Brake System Co., Ltd.).json'\n",
    "# with open(path, 'r') as f:\n",
    "#     data = json.load(f)\n",
    "# # print(data)\n",
    "# supplier_dict = {'name':'Ningbo Tuopu Group Co., Ltd.(Formerly Ningbo Tuopu Brake System Co., Ltd.)'}\n",
    "# metadata_fields = ['top500', 'Year Established', 'Number of Employees', 'Sales Turnover', 'Representative', 'URL', 'Address', 'Country']\n",
    "# for key in data:\n",
    "#     if key in metadata_fields:\n",
    "#         supplier_dict[key.replace(' ', '_')] = data[key]\n",
    "# print(supplier_dict)\n",
    "\n",
    "# cypher = \"\"\"CREATE (c:Company {\"\"\"\n",
    "# for key in supplier_dict:\n",
    "#     cypher += key + \": $\" + key + \", \"\n",
    "# cypher = cypher[:-2]\n",
    "# cypher += \"}) RETURN c\"\n",
    "\n",
    "# print(cypher)\n",
    "# # kg.query(cypher, supplier_dict)"
   ]
  },
  {
   "cell_type": "code",
   "execution_count": 40,
   "metadata": {},
   "outputs": [],
   "source": [
    "def addSupplierCompany(supplier_file):\n",
    "    metadata_fields = ['top500', 'Year Established', 'Number of Employees', 'Sales Turnover', 'Representative', 'URL', 'Address', 'Country']\n",
    "\n",
    "    name = supplier_file[:-5]\n",
    "    # create dictiory for executing cyper query\n",
    "    supplier_dict = {'name':name}\n",
    "\n",
    "    # read supplier file\n",
    "    with open(f'../TempJSONs/Suppliers/{supplier_file}', 'r') as f:\n",
    "        data = json.load(f)\n",
    "\n",
    "    # add required fields in dictionary\n",
    "    for key in data:\n",
    "        if key in metadata_fields:\n",
    "            supplier_dict[key.replace(' ', '_')] = data[key]\n",
    "\n",
    "    # construct cypher query\n",
    "    cypher = \"\"\"MERGE (c:Supplier {\"\"\"\n",
    "    for key in supplier_dict:\n",
    "        cypher += key + \": $\" + key + \", \"\n",
    "    cypher = cypher[:-2]\n",
    "    cypher += \"}) RETURN c\"\n",
    "\n",
    "    # execute cypher query\n",
    "    kg.query(cypher, supplier_dict)"
   ]
  },
  {
   "cell_type": "code",
   "execution_count": 41,
   "metadata": {},
   "outputs": [],
   "source": [
    "def addSupplierCountry(supplier_file):\n",
    "    # read supplier file\n",
    "    with open(f'../TempJSONs/Suppliers/{supplier_file}', 'r') as f:\n",
    "        data = json.load(f)\n",
    "    if 'Country' not in data:\n",
    "        return\n",
    "    country_name = data['Country']\n",
    "    \n",
    "    cypher = \"\"\"\n",
    "        MERGE (c:Country {name: $country_name})\n",
    "        RETURN c\n",
    "    \"\"\"\n",
    "    kg.query(cypher, {'country_name':country_name})\n",
    "    "
   ]
  },
  {
   "cell_type": "code",
   "execution_count": 42,
   "metadata": {},
   "outputs": [],
   "source": [
    "def addSupplierCountryRelation(supplier_file):\n",
    "    # read supplier file\n",
    "    with open(f'../TempJSONs/Suppliers/{supplier_file}', 'r') as f:\n",
    "        data = json.load(f)\n",
    "    if 'Country' not in data:\n",
    "        return\n",
    "    country_name = data['Country']\n",
    "    supplier_name = supplier_file[:-5]\n",
    "\n",
    "    cypher = \"\"\"\n",
    "        MERGE (s:Supplier {name:$supplier_name})\n",
    "        MERGE (c:Country {name:$country_name})\n",
    "        MERGE (s)-[r:LOCATED_IN]->(c)\n",
    "    \"\"\"\n",
    "    kg.query(cypher, {'supplier_name':supplier_name, 'country_name':country_name})"
   ]
  },
  {
   "cell_type": "code",
   "execution_count": 43,
   "metadata": {},
   "outputs": [],
   "source": [
    "def addSupplierPartsRelation(supplier_file):\n",
    "    # read supplier file\n",
    "    with open(f'../TempJSONs/Suppliers/{supplier_file}', 'r') as f:\n",
    "        data = json.load(f)\n",
    "    if 'parts_sold' not in data:\n",
    "        return\n",
    "    supplier_name = supplier_file[:-5]\n",
    "    parts = list(data['parts_sold'].keys())\n",
    "    # print(parts)\n",
    "    # return\n",
    "\n",
    "    for part in parts:\n",
    "        cypher = \"\"\"\n",
    "            MERGE (s:Supplier {name:$supplier_name})\n",
    "            MERGE (p:Part {name:$part})\n",
    "            MERGE (s)-[:HAS_PART]->(p)\n",
    "        \"\"\"\n",
    "        kg.query(cypher, {'supplier_name':supplier_name, 'part':part})"
   ]
  },
  {
   "cell_type": "code",
   "execution_count": 44,
   "metadata": {},
   "outputs": [],
   "source": [
    "def addSupplierBuyerRelation(supplier_file):\n",
    "    # read supplier file\n",
    "    with open(f'../TempJSONs/Suppliers/{supplier_file}', 'r') as f:\n",
    "        data = json.load(f)\n",
    "    if 'parts_sold' not in data:\n",
    "        return\n",
    "    supplier_name = supplier_file[:-5]\n",
    "    buyers = list(data['buyers'].keys())\n",
    "    buyers = [buyer.split(':')[0] for buyer in buyers]\n",
    "\n",
    "    for buyer in buyers:\n",
    "        cypher = \"\"\"\n",
    "            MERGE (s:Supplier {name:$supplier_name})\n",
    "            MERGE (b:Buyer {name:$buyer})\n",
    "            MERGE (s)-[:SELLS_TO]->(b)\n",
    "        \"\"\"\n",
    "        kg.query(cypher, {'supplier_name':supplier_name, 'buyer':buyer})"
   ]
  },
  {
   "cell_type": "code",
   "execution_count": 47,
   "metadata": {},
   "outputs": [
    {
     "name": "stderr",
     "output_type": "stream",
     "text": [
      "100%|██████████| 340/340 [04:52<00:00,  1.16it/s]\n"
     ]
    }
   ],
   "source": [
    "# create nodes Supplier(Company), Country, Part\n",
    "# create relationships LOCATED_IN(Company, Country), SELLS_TO(c1, c2), HAS_PART(Company, Part)\n",
    "\n",
    "supplier_jsons_list = os.listdir('../TempJSONs/Suppliers')\n",
    "metadata_fields = ['top500', 'Year Established', 'Number of Employees', 'Sales Turnover', 'Representative', 'URL', 'Address', 'Country']\n",
    "for i in tqdm(range(len(supplier_jsons_list[:10]))):\n",
    "    supplier_file = supplier_jsons_list[i]\n",
    "    addSupplierCompany(supplier_file)\n",
    "    addSupplierCountry(supplier_file)\n",
    "    addSupplierCountryRelation(supplier_file)\n",
    "    addSupplierPartsRelation(supplier_file)\n",
    "    addSupplierBuyerRelation(supplier_file)"
   ]
  },
  {
   "cell_type": "code",
   "execution_count": 14,
   "metadata": {},
   "outputs": [],
   "source": [
    "def seeCompleteGraph():\n",
    "    cypher = \"\"\"\n",
    "        MATCH (n)-[r]->(m)\n",
    "        RETURN n, r, m\n",
    "    \"\"\"\n",
    "    kg.query(cypher)\n",
    "seeCompleteGraph()"
   ]
  },
  {
   "cell_type": "code",
   "execution_count": null,
   "metadata": {},
   "outputs": [],
   "source": []
  }
 ],
 "metadata": {
  "kernelspec": {
   "display_name": "venv",
   "language": "python",
   "name": "python3"
  },
  "language_info": {
   "codemirror_mode": {
    "name": "ipython",
    "version": 3
   },
   "file_extension": ".py",
   "mimetype": "text/x-python",
   "name": "python",
   "nbconvert_exporter": "python",
   "pygments_lexer": "ipython3",
   "version": "3.12.4"
  }
 },
 "nbformat": 4,
 "nbformat_minor": 2
}
